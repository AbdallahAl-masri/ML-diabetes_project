{
  "nbformat": 4,
  "nbformat_minor": 0,
  "metadata": {
    "colab": {
      "provenance": [],
      "include_colab_link": true
    },
    "kernelspec": {
      "name": "python3",
      "display_name": "Python 3"
    },
    "language_info": {
      "name": "python"
    }
  },
  "cells": [
    {
      "cell_type": "markdown",
      "metadata": {
        "id": "view-in-github",
        "colab_type": "text"
      },
      "source": [
        "<a href=\"https://colab.research.google.com/github/AbdallahAl-masri/ML-diabetes_project/blob/main/AI_project_diabetes.ipynb\" target=\"_parent\"><img src=\"https://colab.research.google.com/assets/colab-badge.svg\" alt=\"Open In Colab\"/></a>"
      ]
    },
    {
      "cell_type": "code",
      "execution_count": null,
      "metadata": {
        "id": "BmY3FCLSzpev",
        "outputId": "3bb5d3cd-a709-4e2e-9163-bf0b6224f3e2",
        "colab": {
          "base_uri": "https://localhost:8080/"
        }
      },
      "outputs": [
        {
          "output_type": "stream",
          "name": "stdout",
          "text": [
            "Mounted at /content/drive/\n"
          ]
        }
      ],
      "source": [
        "from google.colab import drive\n",
        "drive.mount('/content/drive/')\n",
        "import os\n",
        "path = '/content/drive/My Drive'\n",
        "os.chdir(path)\n",
        "\n",
        "import pandas as pd\n",
        "import numpy as np\n",
        "\n",
        "diabetes_data = pd.read_csv('diabetes_prediction_dataset.csv')\n",
        "np.random.seed()\n",
        "\n",
        "encoded_data = pd.get_dummies(diabetes_data)\n",
        "\n",
        "# Separate features and target variable\n",
        "x = encoded_data.drop('diabetes', axis=1)\n",
        "y = encoded_data['diabetes']\n",
        "\n",
        "MAES = []\n",
        "algo = []\n",
        "accuracy = []\n",
        "recall = []\n",
        "fscore = []"
      ]
    },
    {
      "cell_type": "code",
      "source": [
        "from sklearn.ensemble import RandomForestClassifier\n",
        "from sklearn.metrics import mean_absolute_error\n",
        "from sklearn.neighbors import KNeighborsClassifier\n",
        "from sklearn.pipeline import Pipeline\n",
        "from sklearn.model_selection import cross_val_score\n",
        "from  sklearn.metrics import accuracy_score , recall_score , f1_score\n",
        "\n",
        "# Functions for comparing different approaches\n",
        "def score_dataset_RandomForest(X_train, X_valid, y_train, y_valid, preprocessor):\n",
        "    model = RandomForestClassifier(n_estimators=10, random_state=0)\n",
        "    model.fit(X_train, y_train)\n",
        "    my_pipeline = Pipeline(steps=[\n",
        "    ('preprocessor', preprocessor),\n",
        "    ('model', model)\n",
        "    ])\n",
        "\n",
        "\n",
        "    my_pipeline.fit(X_train, y_train)\n",
        "\n",
        "    preds = my_pipeline.predict(X_valid)\n",
        "    algo.append('RandomForset')\n",
        "    MAES.append(mean_absolute_error(y_valid, preds))\n",
        "    accuracy.append(accuracy_score(preds, y_valid))\n",
        "    recall.append(recall_score(preds,y_valid))\n",
        "    fscore.append(f1_score(preds,y_valid))\n",
        "    return mean_absolute_error(y_valid, preds)\n",
        "\n",
        "\n",
        "\n",
        "def score_dataet_KNeighborsClassifier(X_train, X_valid, y_train, y_valid, preprocessor):\n",
        "\n",
        "\n",
        "  model = KNeighborsClassifier(n_neighbors=5)\n",
        "  model.fit(X_train, y_train)\n",
        "\n",
        "  # Bundle preprocessing and modeling code in pipeline\n",
        "  my_pipeline = Pipeline(steps=[\n",
        "    ('preprocessor', preprocessor),\n",
        "    ('model', model)\n",
        "    ])\n",
        "\n",
        "  # preparing of training data, fit model\n",
        "  my_pipeline.fit(X_train, y_train)\n",
        "\n",
        "  # preprocessing of validation data, get predictions\n",
        "  preds = my_pipeline.predict(X_valid)\n",
        "  algo.append('K Neighbors')\n",
        "  MAES.append(mean_absolute_error(y_valid, preds))\n",
        "  accuracy.append(accuracy_score(preds, y_valid))\n",
        "  recall.append(recall_score(preds,y_valid))\n",
        "  fscore.append(f1_score(preds,y_valid))\n",
        "  return mean_absolute_error(y_valid, preds)\n",
        "\n",
        "\n",
        "def cross_validation_score(x, y,model):\n",
        "\n",
        "  # Multiply by -1 since sklearn calculates *negative* MAE\n",
        "  scores = -1 * cross_val_score(my_pipeline, x, y, cv=5, scoring='neg_mean_absolute_error')\n",
        "  return scores\n"
      ],
      "metadata": {
        "id": "Kq_2-qYM87fw"
      },
      "execution_count": null,
      "outputs": []
    },
    {
      "cell_type": "code",
      "source": [
        "from sklearn.model_selection import train_test_split\n",
        "from sklearn.preprocessing import StandardScaler\n",
        "from sklearn.compose import ColumnTransformer\n",
        "from sklearn.preprocessing import OneHotEncoder\n",
        "from sklearn.metrics import mean_absolute_error\n",
        "from tensorflow import keras\n",
        "from tensorflow.keras import layers\n",
        "import numpy as np\n",
        "\n",
        "def NeuralNetwork(X_train_full, X_valid_full, y_train, y_valid, low_cardinality_cols, numerical_cols):\n",
        "  # Standardize the numeric features\n",
        "  scaler = StandardScaler()\n",
        "  X_train_numeric = scaler.fit_transform(X_train_full[numerical_cols])\n",
        "  X_test_numeric = scaler.transform(X_valid_full[numerical_cols])\n",
        "\n",
        "  # Encode categorical features using one-hot encoding\n",
        "  ct = ColumnTransformer(\n",
        "      [('encoder', OneHotEncoder(), low_cardinality_cols)],\n",
        "      remainder='passthrough'\n",
        "  )\n",
        "\n",
        "  X_train_encoded = ct.fit_transform(X_train_full)\n",
        "  X_test_encoded = ct.transform(X_valid_full)\n",
        "\n",
        "  # Combine encoded categorical features with standardized numeric features\n",
        "  X_train_final = np.concatenate((X_train_encoded, X_train_numeric), axis=1)\n",
        "  X_test_final = np.concatenate((X_test_encoded, X_test_numeric), axis=1)\n",
        "\n",
        "\n",
        "  # Build the neural network\n",
        "  model = keras.Sequential()\n",
        "  model.add(layers.Dense(16, activation='relu', input_dim=X_train_final.shape[1]))\n",
        "  model.add(layers.Dense(8, activation='relu'))\n",
        "  model.add(layers.Dense(1, activation='sigmoid'))\n",
        "\n",
        "  # Compile the model\n",
        "  model.compile(optimizer='adam', loss='binary_crossentropy', metrics=['accuracy'])\n",
        "\n",
        "  # Train the model\n",
        "  model.fit(X_train_final, y_train, epochs=10, batch_size=32)\n",
        "\n",
        "  # Make predictions on the test data\n",
        "  y_pred = model.predict(X_test_final)\n",
        "  y_pred = (y_pred >= 0.5).astype(int)\n",
        "\n",
        "  y_test = np.array(y_valid)\n",
        "\n",
        "  # Calculate mean absolute error\n",
        "  mae = mean_absolute_error(y_test, y_pred)\n",
        "  algo.append('NeuralNeetwork')\n",
        "  MAES.append(mae)\n",
        "  accuracy.append(accuracy_score(y_pred, y_test))\n",
        "  recall.append(recall_score(y_pred, y_test))\n",
        "  fscore.append(f1_score(y_pred, y_test))\n",
        "  return mae"
      ],
      "metadata": {
        "id": "oGQD_n9Pu20-"
      },
      "execution_count": null,
      "outputs": []
    },
    {
      "cell_type": "code",
      "source": [
        "# Split the data into training and testing sets\n",
        "X_train_full, X_valid_full, y_train, y_valid = train_test_split(x, y, train_size=0.8, test_size=0.2,random_state=0)\n",
        "\n",
        "\n",
        "# \"Cardinality\" means the number of unique values in a column\n",
        "# Select categorical columns with relatively low cardinality (convenient but arbitrary)\n",
        "low_cardinality_cols = [cname for cname in X_train_full.columns if X_train_full[cname].nunique() < 10 and X_train_full[cname].dtype == \"object\"]\n",
        "\n",
        "\n",
        "# Select numerical columns\n",
        "numerical_cols = [cname for cname in X_train_full.columns if X_train_full[cname].dtype in ['int64', 'float64']]\n",
        "\n",
        "# keep selected columns only\n",
        "my_cols = low_cardinality_cols + numerical_cols\n",
        "X_train = X_train_full[my_cols].copy()\n",
        "X_valid = X_valid_full[my_cols].copy()\n"
      ],
      "metadata": {
        "id": "4k4aWYww89Xg"
      },
      "execution_count": null,
      "outputs": []
    },
    {
      "cell_type": "code",
      "source": [
        "from sklearn import preprocessing\n",
        "from pandas.core.arrays import categorical\n",
        "from sklearn.compose import ColumnTransformer\n",
        "from sklearn.impute import SimpleImputer\n",
        "from sklearn.preprocessing import OneHotEncoder\n",
        "\n",
        "# preprocessing for numerical data\n",
        "numerical_transform = SimpleImputer()\n",
        "\n",
        "# preprocessing for categorical data\n",
        "categorical_transform = Pipeline(steps=[\n",
        "    ('imputer', SimpleImputer()),\n",
        "    ('onehot', OneHotEncoder(handle_unknown='ignore'))\n",
        "])\n",
        "\n",
        "# Bundle preprocessing for numerical and categorical data\n",
        "preprocessor = ColumnTransformer(\n",
        "    transformers=[\n",
        "        ('num', numerical_transform, numerical_cols),\n",
        "        ('cat', categorical_transform, low_cardinality_cols)\n",
        "    ])\n",
        "\n"
      ],
      "metadata": {
        "id": "X-a3PeCw_zT2"
      },
      "execution_count": null,
      "outputs": []
    },
    {
      "cell_type": "code",
      "source": [
        "print('MAE from pipeline - RandomForset')\n",
        "print(score_dataset_RandomForest(X_train, X_valid, y_train, y_valid, preprocessor))\n",
        "print('\\n\\nMAE from pipeline - KNeighbors')\n",
        "print(score_dataet_KNeighborsClassifier(X_train, X_valid, y_train, y_valid, preprocessor))\n",
        "\n"
      ],
      "metadata": {
        "colab": {
          "base_uri": "https://localhost:8080/"
        },
        "id": "tuIXKEXHErTG",
        "outputId": "d36303f9-418b-415d-a40f-56d98f09d3cf"
      },
      "execution_count": null,
      "outputs": [
        {
          "output_type": "stream",
          "name": "stdout",
          "text": [
            "MAE from pipeline - RandomForset\n",
            "0.03135\n",
            "\n",
            "\n",
            "MAE from pipeline - KNeighbors\n",
            "0.0437\n"
          ]
        }
      ]
    },
    {
      "cell_type": "code",
      "source": [
        "model = RandomForestClassifier(n_estimators=10, random_state=0)\n",
        "model.fit(X_train, y_train)\n",
        "my_pipeline = Pipeline(steps=[\n",
        "    ('preprocessor', preprocessor),\n",
        "    ('model', model)\n",
        "    ])\n",
        "print('MAE from cross validation - RandomForest')\n",
        "preds = cross_validation_score(x, y,model)\n",
        "\n",
        "print(preds)\n",
        "print(preds.mean())"
      ],
      "metadata": {
        "colab": {
          "base_uri": "https://localhost:8080/"
        },
        "id": "bq5YnUnZFbxk",
        "outputId": "292b41e8-5d82-4e65-ca69-9647425e158c"
      },
      "execution_count": null,
      "outputs": [
        {
          "output_type": "stream",
          "name": "stdout",
          "text": [
            "MAE from cross validation - RandomForest\n",
            "[0.03265 0.0319  0.03435 0.0309  0.03185]\n",
            "0.032330000000000005\n"
          ]
        }
      ]
    },
    {
      "cell_type": "code",
      "source": [
        "model = KNeighborsClassifier(n_neighbors=5)\n",
        "model.fit(X_train, y_train)\n",
        "my_pipeline = Pipeline(steps=[\n",
        "    ('preprocessor', preprocessor),\n",
        "    ('model', model)\n",
        "    ])\n",
        "print('MAE from cross validation - K Neighbors')\n",
        "preds = cross_validation_score(x, y,model)\n",
        "\n",
        "print(preds)\n",
        "print(preds.mean())"
      ],
      "metadata": {
        "colab": {
          "base_uri": "https://localhost:8080/"
        },
        "id": "7ypaO74iu2Qk",
        "outputId": "979fe653-693a-4849-d072-064acbd6e6f4"
      },
      "execution_count": null,
      "outputs": [
        {
          "output_type": "stream",
          "name": "stdout",
          "text": [
            "MAE from cross validation - K Neighbors\n",
            "[0.0447  0.0453  0.04625 0.0438  0.0433 ]\n",
            "0.04467\n"
          ]
        }
      ]
    },
    {
      "cell_type": "code",
      "source": [
        "from xgboost import XGBClassifier\n",
        "\n",
        "\n",
        "\n",
        "my_model = XGBClassifier(n_estimators=1000, learning_rate=0.05, n_jobs=4)\n",
        "my_model.fit(X_train, y_train,\n",
        "             early_stopping_rounds=5,\n",
        "             eval_set=[(X_valid, y_valid)],\n",
        "             verbose=False)\n",
        "\n",
        "preds = my_model.predict(X_valid)\n",
        "algo.append('XGBClassifier')\n",
        "MAES.append(mean_absolute_error(preds, y_valid))\n",
        "accuracy.append(accuracy_score(preds, y_valid))\n",
        "recall.append(recall_score(preds,y_valid))\n",
        "fscore.append(f1_score(preds,y_valid))\n",
        "print(\"Mean Absolute Error: \" + str(mean_absolute_error(preds, y_valid)))\n",
        "\n",
        "\n"
      ],
      "metadata": {
        "id": "BMnXmmdeZ-FI",
        "outputId": "c7f77187-9ee3-4ccc-ecf7-72d12179d19b",
        "colab": {
          "base_uri": "https://localhost:8080/"
        }
      },
      "execution_count": null,
      "outputs": [
        {
          "output_type": "stream",
          "name": "stderr",
          "text": [
            "/usr/local/lib/python3.10/dist-packages/xgboost/sklearn.py:835: UserWarning: `early_stopping_rounds` in `fit` method is deprecated for better compatibility with scikit-learn, use `early_stopping_rounds` in constructor or`set_params` instead.\n",
            "  warnings.warn(\n"
          ]
        },
        {
          "output_type": "stream",
          "name": "stdout",
          "text": [
            "Mean Absolute Error: 0.02715\n"
          ]
        }
      ]
    },
    {
      "cell_type": "code",
      "source": [
        "print('MAE from NeuralNetwork')\n",
        "print(NeuralNetwork(X_train_full, X_valid_full, y_train, y_valid, low_cardinality_cols, numerical_cols))"
      ],
      "metadata": {
        "colab": {
          "base_uri": "https://localhost:8080/"
        },
        "id": "OIFjdTSz2rKK",
        "outputId": "54696fff-9089-4bb0-e909-bf30196fae51"
      },
      "execution_count": null,
      "outputs": [
        {
          "output_type": "stream",
          "name": "stdout",
          "text": [
            "MAE from NeuralNetwork\n",
            "Epoch 1/10\n",
            "2500/2500 [==============================] - 5s 2ms/step - loss: 0.1629 - accuracy: 0.9474\n",
            "Epoch 2/10\n",
            "2500/2500 [==============================] - 4s 1ms/step - loss: 0.1214 - accuracy: 0.9561\n",
            "Epoch 3/10\n",
            "2500/2500 [==============================] - 5s 2ms/step - loss: 0.1165 - accuracy: 0.9582\n",
            "Epoch 4/10\n",
            "2500/2500 [==============================] - 4s 2ms/step - loss: 0.1130 - accuracy: 0.9595\n",
            "Epoch 5/10\n",
            "2500/2500 [==============================] - 4s 1ms/step - loss: 0.1102 - accuracy: 0.9613\n",
            "Epoch 6/10\n",
            "2500/2500 [==============================] - 4s 1ms/step - loss: 0.1077 - accuracy: 0.9622\n",
            "Epoch 7/10\n",
            "2500/2500 [==============================] - 5s 2ms/step - loss: 0.1066 - accuracy: 0.9625\n",
            "Epoch 8/10\n",
            "2500/2500 [==============================] - 4s 1ms/step - loss: 0.1048 - accuracy: 0.9633\n",
            "Epoch 9/10\n",
            "2500/2500 [==============================] - 4s 2ms/step - loss: 0.1062 - accuracy: 0.9626\n",
            "Epoch 10/10\n",
            "2500/2500 [==============================] - 5s 2ms/step - loss: 0.1030 - accuracy: 0.9637\n",
            "625/625 [==============================] - 1s 1ms/step\n",
            "0.0339\n"
          ]
        }
      ]
    },
    {
      "cell_type": "code",
      "source": [
        "import matplotlib.pyplot as plt\n",
        "finalResult=pd.DataFrame({'Algorithm' : algo, 'MAE' : MAES , 'accuracy' : accuracy, 'recall' : recall, 'FScore' : fscore})\n",
        "fig,ax=plt.subplots(figsize=(20,5))\n",
        "plt.plot(finalResult.Algorithm,MAES,label='mean_absolute_error')\n",
        "plt.plot(finalResult.Algorithm,accuracy,label='Accuracy')\n",
        "plt.plot(finalResult.Algorithm,recall,label='Recall')\n",
        "plt.plot(finalResult.Algorithm,fscore,label='FScore')\n",
        "plt.legend()\n",
        "plt.show()\n"
      ],
      "metadata": {
        "colab": {
          "base_uri": "https://localhost:8080/",
          "height": 395
        },
        "id": "zDf6fnrhAT3-",
        "outputId": "46fcf583-0317-436a-ee34-8f858791dcaf"
      },
      "execution_count": null,
      "outputs": [
        {
          "output_type": "display_data",
          "data": {
            "text/plain": [
              "<Figure size 2000x500 with 1 Axes>"
            ],
            "image/png": "[encoded data removed]"
          },
          "metadata": {}
        }
      ]
    },
    {
      "cell_type": "code",
      "source": [
        "min_accuracy = min(accuracy)\n",
        "min_MAES = min(MAES)\n",
        "min_recall = min(recall)\n",
        "min_fscore = min(fscore)\n",
        "\n",
        "best = {algo[accuracy.index(min_accuracy)] : min_accuracy, algo[MAES.index(min(MAES))] : min(MAES), algo[recall.index(min_recall)] : min_recall, algo[fscore.index(min_fscore)] : min_fscore}\n",
        "\n",
        "print(algo[accuracy.index(min_accuracy)], min_accuracy, accuracy.index(min_accuracy))\n",
        "print(algo[MAES.index(min(MAES))],min(MAES), MAES.index(min(MAES)))\n",
        "print(algo[recall.index(min_recall)],min_recall, recall.index(min_recall))\n",
        "print(algo[fscore.index(min_fscore)],min_fscore, fscore.index(min_fscore))\n",
        "\n",
        "print('\\nthe best model is:', min(best, key=best.get))"
      ],
      "metadata": {
        "id": "EXGMRhRWKOlK",
        "colab": {
          "base_uri": "https://localhost:8080/"
        },
        "outputId": "b7bfa80c-2531-4188-d37f-d08e1d7276c6"
      },
      "execution_count": null,
      "outputs": [
        {
          "output_type": "stream",
          "name": "stdout",
          "text": [
            "K Neighbors 0.9563 1\n",
            "XGBClassifier 0.02715 2\n",
            "K Neighbors 0.8855813953488372 1\n",
            "K Neighbors 0.685385169186465 1\n",
            "\n",
            "the best model is: XGBClassifier\n"
          ]
        }
      ]
    }
  ]
}